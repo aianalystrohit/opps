{
 "cells": [
  {
   "cell_type": "code",
   "execution_count": 1,
   "id": "8b6a7b1a-3ff5-4b22-be3e-d3b2d7aa7e3a",
   "metadata": {},
   "outputs": [],
   "source": [
    "class a :\n",
    "    \n",
    "    def test(self):\n",
    "        print(\"this test method is a part of class a\")\n",
    "        \n",
    "    def test1(self):\n",
    "        print(\"this is test1 from class a \")"
   ]
  },
  {
   "cell_type": "code",
   "execution_count": 2,
   "id": "8e4d306f-fdb4-47a0-a93d-597f5b21d30b",
   "metadata": {},
   "outputs": [],
   "source": [
    "obj_a = a()"
   ]
  },
  {
   "cell_type": "code",
   "execution_count": 3,
   "id": "81ef5597-cf96-4ed9-a4f6-21e2e93aca70",
   "metadata": {},
   "outputs": [
    {
     "name": "stdout",
     "output_type": "stream",
     "text": [
      "this test method is a part of class a\n"
     ]
    }
   ],
   "source": [
    "obj_a.test()"
   ]
  },
  {
   "cell_type": "code",
   "execution_count": 4,
   "id": "11ee63d6-433d-48dc-ada0-5dd6771310ba",
   "metadata": {},
   "outputs": [],
   "source": [
    "class b(a) :\n",
    "    def test1b(self):\n",
    "        print(\"this is a part of class b \")"
   ]
  },
  {
   "cell_type": "code",
   "execution_count": 5,
   "id": "badaedfe-57d1-43c6-9193-e5afb0f31dbc",
   "metadata": {},
   "outputs": [],
   "source": [
    "obj_b = b()"
   ]
  },
  {
   "cell_type": "code",
   "execution_count": 6,
   "id": "3ce19f61-ba8e-4050-9d4d-614adfd964c5",
   "metadata": {},
   "outputs": [
    {
     "name": "stdout",
     "output_type": "stream",
     "text": [
      "this test method is a part of class a\n"
     ]
    }
   ],
   "source": [
    "obj_b.test()"
   ]
  },
  {
   "cell_type": "code",
   "execution_count": 7,
   "id": "5e473fae-e094-4407-99df-16a04ab4c80a",
   "metadata": {},
   "outputs": [
    {
     "name": "stdout",
     "output_type": "stream",
     "text": [
      "this is test1 from class a \n"
     ]
    }
   ],
   "source": [
    "obj_b.test1()"
   ]
  },
  {
   "cell_type": "code",
   "execution_count": 10,
   "id": "59361cd3-c0c4-4ddd-abac-cbe3275ade5f",
   "metadata": {},
   "outputs": [],
   "source": [
    "class lecture:\n",
    "    \n",
    "    def topic(self):\n",
    "        print(\"todays class we are discussing about inheritance condept in oops\")\n",
    "        \n",
    "    def timing(self):\n",
    "        print(\"timing for todays class is 9 AM IST\")\n",
    "        \n",
    "    def end_time(self):\n",
    "        print(\"today i will try to end class bit early\")"
   ]
  },
  {
   "cell_type": "code",
   "execution_count": 11,
   "id": "6e3dd2de-883e-4e9e-98a0-4a7089af1627",
   "metadata": {},
   "outputs": [],
   "source": [
    "class student(lecture):\n",
    "    \n",
    "    def student_details(self):\n",
    "        print(\"this class will give you a student details\")"
   ]
  },
  {
   "cell_type": "code",
   "execution_count": 12,
   "id": "c2ad2a89-0f29-4410-86c4-e33f47b4186d",
   "metadata": {},
   "outputs": [],
   "source": [
    "naval = student()"
   ]
  },
  {
   "cell_type": "code",
   "execution_count": 13,
   "id": "38c86e7f-5560-464a-b597-c88a74819f1a",
   "metadata": {},
   "outputs": [
    {
     "name": "stdout",
     "output_type": "stream",
     "text": [
      "todays class we are discussing about inheritance condept in oops\n"
     ]
    }
   ],
   "source": [
    "naval.topic()"
   ]
  },
  {
   "cell_type": "code",
   "execution_count": 14,
   "id": "02efc8a4-f995-4f85-87d2-620ccc0f61fa",
   "metadata": {},
   "outputs": [
    {
     "name": "stdout",
     "output_type": "stream",
     "text": [
      "timing for todays class is 9 AM IST\n"
     ]
    }
   ],
   "source": [
    "satish = student()\n",
    "satish.timing()"
   ]
  },
  {
   "cell_type": "code",
   "execution_count": 15,
   "id": "03932972-a58b-46e5-a3f8-ffc43c84ce53",
   "metadata": {},
   "outputs": [],
   "source": [
    "class teacher(student):\n",
    "    def details(self):\n",
    "        print(\"this will give you a details about teacher\")"
   ]
  },
  {
   "cell_type": "code",
   "execution_count": 16,
   "id": "fff36c1b-f1e9-467e-b29f-c304aa9feec9",
   "metadata": {},
   "outputs": [
    {
     "name": "stdout",
     "output_type": "stream",
     "text": [
      "timing for todays class is 9 AM IST\n"
     ]
    }
   ],
   "source": [
    "sudh = teacher()\n",
    "sudh.timing()"
   ]
  },
  {
   "cell_type": "code",
   "execution_count": 17,
   "id": "a5e8c94b-de62-4ef5-8eba-81259d83dd3d",
   "metadata": {},
   "outputs": [],
   "source": [
    "class lecture:\n",
    "    def topic(self):\n",
    "        print(\"todays class we are discussing about inheritance condept in oops\")\n",
    "        \n",
    "    def timing(self):\n",
    "        print(\"timing for todays class is 9 AM IST\")\n",
    "        \n",
    "    def end_time(self):\n",
    "        print(\"today i will try to end class bit early\")"
   ]
  },
  {
   "cell_type": "code",
   "execution_count": 18,
   "id": "2007141c-1b71-4cd4-9bed-a3cd8d851baa",
   "metadata": {},
   "outputs": [],
   "source": [
    "class student:\n",
    "    \n",
    "    def student_details(self):\n",
    "        print(\"this class will give you a student details\")\n",
    "        \n",
    "    def timing(self):\n",
    "        print(\"this is a timing fun from student class\")\n",
    "        "
   ]
  },
  {
   "cell_type": "code",
   "execution_count": 19,
   "id": "272860d3-1fac-475b-8c09-0490069224bc",
   "metadata": {},
   "outputs": [],
   "source": [
    "class teacher(lecture,student):\n",
    "    def details(self):\n",
    "        print(\"this will give you a details about teacher\")"
   ]
  },
  {
   "cell_type": "code",
   "execution_count": 20,
   "id": "f4a9ae16-f0e3-4a4a-a003-38773611cd2a",
   "metadata": {},
   "outputs": [],
   "source": [
    "krish = teacher()"
   ]
  },
  {
   "cell_type": "code",
   "execution_count": 21,
   "id": "6dc85f37-219e-4c72-927c-9aebb550fea9",
   "metadata": {},
   "outputs": [
    {
     "name": "stdout",
     "output_type": "stream",
     "text": [
      "timing for todays class is 9 AM IST\n"
     ]
    }
   ],
   "source": [
    "krish.timing()"
   ]
  },
  {
   "cell_type": "code",
   "execution_count": 22,
   "id": "8bcbac88-9172-4a31-a191-9c4b9a1c6eac",
   "metadata": {},
   "outputs": [
    {
     "name": "stdout",
     "output_type": "stream",
     "text": [
      "this class will give you a student details\n"
     ]
    }
   ],
   "source": [
    "krish.student_details()"
   ]
  },
  {
   "cell_type": "markdown",
   "id": "86b47d4f-860e-4702-83a0-0145887ab41a",
   "metadata": {},
   "source": [
    "Problem 1: Bank Account Create a class representing a bank account with attributes like account number, account holder name, and balance. Implement methods to deposit and withdraw money from the account.\n",
    "class BankAccount:\n",
    "    def __init__(self, account_number, account_holder_name, balance=0):\n",
    "        self.account_number = account_number\n",
    "        self.account_holder_name = account_holder_name\n",
    "        self.balance = balance\n",
    "\n",
    "    def deposit(self, amount):\n",
    "        if amount > 0:\n",
    "            self.balance += amount\n",
    "\n",
    "    def withdraw(self, amount):\n",
    "        if amount > 0 and amount <= self.balance:\n",
    "            self.balance -= amount\n",
    "\n",
    "    def display_details(self):\n",
    "        print(f\"Account Number: {self.account_number}\")\n",
    "        print(f\"Account Holder: {self.account_holder_name}\")\n",
    "        print(f\"Balance: {self.balance}\")\n",
    "Problem 2: Employee Management Create a class representing an employee with attributes like employee ID, name, and salary. Implement methods to calculate the yearly bonus and display employee details.\n",
    "class Employee:\n",
    "    def __init__(self, employee_id, name, salary):\n",
    "        self.employee_id = employee_id\n",
    "        self.name = name\n",
    "        self.salary = salary\n",
    "\n",
    "    def calculate_bonus(self, bonus_percentage):\n",
    "        return self.salary * bonus_percentage / 100\n",
    "\n",
    "    def display_details(self):\n",
    "        print(f\"Employee ID: {self.employee_id}\")\n",
    "        print(f\"Name: {self.name}\")\n",
    "        print(f\"Salary: {self.salary}\")\n",
    "\n",
    "Problem 3: Vehicle Rental Create a class representing a vehicle rental system. Implement methods to rent a vehicle, return a vehicle, and display available vehicles.\n",
    "\n",
    "class Vehicle:\n",
    "    def __init__(self, vehicle_id, model, rental_rate):\n",
    "        self.vehicle_id = vehicle_id\n",
    "        self.model = model\n",
    "        self.rental_rate = rental_rate\n",
    "\n",
    "class VehicleRentalSystem:\n",
    "    def __init__(self):\n",
    "        self.available_vehicles = []\n",
    "\n",
    "    def rent_vehicle(self, vehicle_id):\n",
    "        # Remove vehicle from available_vehicles\n",
    "        pass\n",
    "\n",
    "    def return_vehicle(self, vehicle_id):\n",
    "        # Add vehicle to available_vehicles\n",
    "        pass\n",
    "\n",
    "    def display_available_vehicles(self):\n",
    "        # Print details of available vehicles\n",
    "        pass\n",
    "Problem 4: Library Catalog Create classes representing a library and a book. Implement methods to add books to the library, borrow books, and display available books.\n",
    "class Book:\n",
    "    def __init__(self, book_id, title, author):\n",
    "        self.book_id = book_id\n",
    "        self.title = title\n",
    "        self.author = author\n",
    "\n",
    "class Library:\n",
    "    def __init__(self):\n",
    "        self.books = []\n",
    "\n",
    "    def add_book(self, book):\n",
    "        self.books.append(book)\n",
    "\n",
    "    def borrow_book(self, book_id):\n",
    "        # Remove book from books\n",
    "        pass\n",
    "\n",
    "    def display_available_books(self):\n",
    "        # Print details of available books\n",
    "        pass\n",
    "Problem 5: Product Inventory Create classes representing a product and an inventory system. Implement methods to add products to the inventory, update product quantity, and display available products.\n",
    "class Product:\n",
    "    def __init__(self, product_id, name, price, quantity):\n",
    "        self.product_id = product_id\n",
    "        self.name = name\n",
    "        self.price = price\n",
    "        self.quantity = quantity\n",
    "\n",
    "class InventorySystem:\n",
    "    def __init__(self):\n",
    "        self.products = []\n",
    "\n",
    "    def add_product(self, product):\n",
    "        self.products.append(product)\n",
    "\n",
    "    def update_product_quantity(self, product_id, new_quantity):\n",
    "        # Update quantity of the product\n",
    "        pass\n",
    "\n",
    "    def display_available_products(self):\n",
    "        # Print details of available products\n",
    "        pass\n",
    "Problem 6: Shape Calculation Create a class representing a shape with attributes like length, width, and height. Implement methods to calculate the area and perimeter of the shape.\n",
    "class Product:\n",
    "    def __init__(self, product_id, name, price, quantity):\n",
    "        self.product_id = product_id\n",
    "        self.name = name\n",
    "        self.price = price\n",
    "        self.quantity = quantity\n",
    "\n",
    "class InventorySystem:\n",
    "    def __init__(self):\n",
    "        self.products = []\n",
    "\n",
    "    def add_product(self, product):\n",
    "        self.products.append(product)\n",
    "\n",
    "    def update_product_quantity(self, product_id, new_quantity):\n",
    "        # Update quantity of the product\n",
    "        pass\n",
    "\n",
    "    def display_available_products(self):\n",
    "        # Print details of available products\n",
    "        pass\n",
    "\n",
    "Problem 7: Student Management Create a class representing a student with attributes like student ID, name, and grades. Implement methods to calculate the average grade and display student details.\n",
    "class Student:\n",
    "    def __init__(self, student_id, name, grades):\n",
    "        self.student_id = student_id\n",
    "        self.name = name\n",
    "        self.grades = grades\n",
    "\n",
    "    def calculate_average_grade(self):\n",
    "        return sum(self.grades) / len(self.grades)\n",
    "\n",
    "    def display_details(self):\n",
    "        print(f\"Student ID: {self.student_id}\")\n",
    "        print(f\"Name: {self.name}\")\n",
    "        print(f\"Average Grade: {self.calculate_average_grade()}\")\n",
    "\n",
    "Problem 8: Email Management Create a class representing an email with attributes like sender, recipient, and subject. Implement methods to send an email and display email details.\n",
    "\n",
    "class Email:\n",
    "    def __init__(self, sender, recipient, subject, body):\n",
    "        self.sender = sender\n",
    "        self.recipient = recipient\n",
    "        self.subject = subject\n",
    "        self.body = body\n",
    "\n",
    "    def send_email(self):\n",
    "        # Send email using email library\n",
    "        pass\n",
    "\n",
    "    def display_details(self):\n",
    "        print(f\"Sender: {self.sender}\")\n",
    "        print(f\"Recipient: {self.recipient}\")\n",
    "        print(f\"Subject: {self.subject}\")\n",
    "Problem 9: Social Media Profile Create a class representing a social media profile with attributes like username and posts. Implement methods to add posts, display posts, and search for posts by keyword.\n",
    "\n",
    "class SocialMediaProfile:\n",
    "    def __init__(self, username):\n",
    "        self.username = username\n",
    "        self.posts = []\n",
    "\n",
    "    def add_post(self, post):\n",
    "        self.posts.append(post)\n",
    "\n",
    "    def display_posts(self):\n",
    "        for post in self.posts:\n",
    "            print(post)\n",
    "\n",
    "    def search_posts(self, keyword):\n",
    "        # Search for posts containing the keyword\n",
    "        pass\n",
    "\n",
    "Problem 10: ToDo List Create a class representing a ToDo list with attributes like tasks and due dates. Implement methods to add tasks, mark tasks as completed, and display pending tasks.\n",
    "\n",
    "class ToDoList:\n",
    "    def __init__(self):\n",
    "        self.tasks = []\n",
    "\n",
    "    def add_task(self, task):\n",
    "        self.tasks.append(task)\n",
    "\n",
    "    def mark_task_completed(self, task_index):\n",
    "        # Mark task as completed\n",
    "        pass\n",
    "\n",
    "    def display_pending_tasks(self):\n",
    "        # Print details of pending tasks\n",
    "        pass"
   ]
  },
  {
   "cell_type": "code",
   "execution_count": null,
   "id": "fef1683a-faa4-4d27-a0a6-7a742e512e9b",
   "metadata": {},
   "outputs": [],
   "source": []
  },
  {
   "cell_type": "code",
   "execution_count": null,
   "id": "654da53a-efed-455c-aff0-48bf9d39bc8c",
   "metadata": {},
   "outputs": [],
   "source": []
  }
 ],
 "metadata": {
  "kernelspec": {
   "display_name": "Python 3 (ipykernel)",
   "language": "python",
   "name": "python3"
  },
  "language_info": {
   "codemirror_mode": {
    "name": "ipython",
    "version": 3
   },
   "file_extension": ".py",
   "mimetype": "text/x-python",
   "name": "python",
   "nbconvert_exporter": "python",
   "pygments_lexer": "ipython3",
   "version": "3.12.4"
  }
 },
 "nbformat": 4,
 "nbformat_minor": 5
}
